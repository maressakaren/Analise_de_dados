{
  "cells": [
    {
      "cell_type": "markdown",
      "metadata": {
        "id": "view-in-github",
        "colab_type": "text"
      },
      "source": [
        "<a href=\"https://colab.research.google.com/github/maressakaren/Reconhecimento_de_emocoes_em_tweets/blob/main/Untitled0.ipynb\" target=\"_parent\"><img src=\"https://colab.research.google.com/assets/colab-badge.svg\" alt=\"Open In Colab\"/></a>"
      ]
    },
    {
      "cell_type": "code",
      "execution_count": null,
      "metadata": {
        "id": "BLwCYLuIalH8"
      },
      "outputs": [],
      "source": [
        "#importando bibliotecas\n",
        "\n",
        "!pip install datasets\n",
        "!pip install unidecode\n",
        "!pip install nltk\n",
        "!pip install spacy\n",
        "!pip install datasets\n",
        "!pip install emoji\n",
        "!pip install tensorflow\n",
        "\n",
        "!python -m spacy download en_core_web_sm"
      ]
    },
    {
      "cell_type": "code",
      "execution_count": null,
      "metadata": {
        "id": "Gd8KhiXAa-Jf"
      },
      "outputs": [],
      "source": [
        "import spacy\n",
        "import re\n",
        "import numpy as np\n",
        "import matplotlib.pyplot as plt\n",
        "import emoji\n",
        "import os\n",
        "\n",
        "from tensorflow.keras import layers, models\n",
        "from tensorflow.keras.callbacks import ModelCheckpoint\n",
        "from datasets import load_dataset\n",
        "from unicodedata import normalize\n",
        "from tqdm import tqdm\n",
        "from collections import Counter\n",
        "from tensorflow.keras.preprocessing.text import Tokenizer\n",
        "from tensorflow.keras.preprocessing.sequence import pad_sequences\n",
        "from tensorflow.keras.utils import to_categorical\n",
        "from sklearn.metrics import classification_report, ConfusionMatrixDisplay"
      ]
    },
    {
      "cell_type": "code",
      "execution_count": null,
      "metadata": {
        "id": "Gak4_bwQ2Ks4"
      },
      "outputs": [],
      "source": []
    },
    {
      "cell_type": "code",
      "execution_count": null,
      "metadata": {
        "id": "JNLSur6dbkh_",
        "colab": {
          "base_uri": "https://localhost:8080/",
          "height": 240,
          "referenced_widgets": [
            "bf597b55f44d451fbbba9d56c941f5dc",
            "0201b21473e148e1b96c23c6214bc5e9",
            "06595c4edffd42c59d3fb00d2f6375ed",
            "b114236bac7e411d9c9ca069c1b905f6",
            "fb28f5f1656242068b1c756cd5a44256",
            "db0a09955e27477cbd3971b18a5683dd",
            "0527c2c4ad4e486f8a00c84e3c8c54d1",
            "02ff5284310746679609a3fc2a655f22",
            "84507b7d782d428d8ce079ed73c26a29",
            "3e43b84ef88e488893120334fbcf20d7",
            "389ef83278d64b6db0dcc7491e56b5e6"
          ]
        },
        "outputId": "1297e706-c08e-4d9a-848f-46c83e1dfefd"
      },
      "outputs": [
        {
          "output_type": "stream",
          "name": "stderr",
          "text": [
            "WARNING:datasets.builder:No config specified, defaulting to: emotion/split\n",
            "WARNING:datasets.builder:Found cached dataset emotion (/root/.cache/huggingface/datasets/dair-ai___emotion/split/1.0.0/cca5efe2dfeb58c1d098e0f9eeb200e9927d889b5a03c67097275dfb5fe463bd)\n"
          ]
        },
        {
          "output_type": "display_data",
          "data": {
            "text/plain": [
              "  0%|          | 0/3 [00:00<?, ?it/s]"
            ],
            "application/vnd.jupyter.widget-view+json": {
              "version_major": 2,
              "version_minor": 0,
              "model_id": "bf597b55f44d451fbbba9d56c941f5dc"
            }
          },
          "metadata": {}
        },
        {
          "output_type": "stream",
          "name": "stdout",
          "text": [
            "\n",
            "Train: 16000\n",
            "Validation: 2000\n",
            "Test: 2000\n",
            "\n",
            "\n",
            "Labels Distribution Train: Counter({1: 5362, 0: 4666, 3: 2159, 4: 1937, 2: 1304, 5: 572})\n",
            "Labels Distribution Validation: Counter({1: 704, 0: 550, 3: 275, 4: 212, 2: 178, 5: 81})\n",
            "Labels Distribution Test: Counter({1: 695, 0: 581, 3: 275, 4: 224, 2: 159, 5: 66})\n"
          ]
        }
      ],
      "source": [
        "dataset = load_dataset(\"dair-ai/emotion\")\n",
        "tweets_train = dataset['train']['text']\n",
        "tweets_validation = dataset['validation']['text']\n",
        "tweets_test = dataset['test']['text']\n",
        "\n",
        "labels_train = dataset['train']['label']\n",
        "labels_validation = dataset['validation']['label']\n",
        "labels_test = dataset['test']['label']\n",
        "\n",
        "\n",
        "print(f'\\nTrain: {len(tweets_train)}')\n",
        "print(f'Validation: {len(tweets_validation)}')\n",
        "print(f'Test: {len(tweets_test)}')\n",
        "\n",
        "print(f'\\n\\nLabels Distribution Train: {Counter(labels_train)}')\n",
        "print(f'Labels Distribution Validation: {Counter(labels_validation)}')\n",
        "print(f'Labels Distribution Test: {Counter(labels_test)}')"
      ]
    },
    {
      "cell_type": "code",
      "execution_count": null,
      "metadata": {
        "id": "7_uhEAlndEDe"
      },
      "outputs": [],
      "source": [
        "#fazer preprocessamento tirando as stopwords\n",
        "def preprocessar_tweets(tweets):\n",
        "    nlp = spacy.load('en_core_web_sm')\n",
        "    repetion_pattern = re.compile(r'(.)\\1\\1+')\n",
        "    new_tweets = []\n",
        "    with tqdm(total=len(tweets), colour='green', desc='Processando') as pbar:\n",
        "      for tweet in tweets:\n",
        "          tweet = emoji.demojize(tweet, language='en')\n",
        "          tweet = tweet.replace('_', ' ')\n",
        "          tweet = normalize('NFKD', tweet).encode('ASCII', 'ignore').decode('ASCII')\n",
        "          tweet = repetion_pattern.sub(r'\\1', tweet)\n",
        "          tweet = re.sub(r'https?://\\w+', '', tweet)\n",
        "          tweet = re.sub(r'@\\w+', ' ', tweet)\n",
        "          tweet = re.sub(r'\\s\\s+', ' ', tweet)\n",
        "          doc = nlp(tweet)\n",
        "          tokens = [t.lemma_.lower() for t in doc if t.pos_ != 'PUNCT' and \\\n",
        "                    not t.is_stop and len(t.lemma_) > 1]\n",
        "          new_tweet = ' '.join(tokens)\n",
        "          new_tweets.append(new_tweet.strip())\n",
        "          pbar.update(1)\n",
        "    return new_tweets"
      ]
    },
    {
      "cell_type": "code",
      "execution_count": null,
      "metadata": {
        "id": "5pvXkkl7C_qh"
      },
      "outputs": [],
      "source": [
        "#criar nuvens de palavras\n",
        "def word_cloud(text):\n",
        "  all_text = \" \".join(texto for texto in text)"
      ]
    },
    {
      "cell_type": "code",
      "execution_count": null,
      "metadata": {
        "colab": {
          "base_uri": "https://localhost:8080/"
        },
        "id": "7nP8H8dZeNb4",
        "outputId": "d8b972bb-3d2a-44be-aa84-534f77b903a6"
      },
      "outputs": [
        {
          "output_type": "stream",
          "name": "stderr",
          "text": [
            "Processando: 100%|\u001b[32m██████████\u001b[0m| 16000/16000 [02:09<00:00, 123.74it/s]\n",
            "Processando: 100%|\u001b[32m██████████\u001b[0m| 2000/2000 [00:16<00:00, 123.52it/s]\n",
            "Processando: 100%|\u001b[32m██████████\u001b[0m| 2000/2000 [00:17<00:00, 116.54it/s]\n"
          ]
        }
      ],
      "source": [
        "tweets_train = preprocessar_tweets(tweets_train)\n",
        "tweets_validation = preprocessar_tweets(tweets_validation)\n",
        "tweets_test = preprocessar_tweets(tweets_test)"
      ]
    },
    {
      "cell_type": "code",
      "execution_count": null,
      "metadata": {
        "id": "SQ2fYjv20Q5L"
      },
      "outputs": [],
      "source": [
        "\n",
        "print(f'\\n\\nPreprocessed Tweet Train: {tweets_train[0]}')\n",
        "print(f'Preprocessed Tweet Validation: {tweets_validation[0]}')\n",
        "print(f'Preprocessed Tweet Test: {tweets_test[0]}')"
      ]
    },
    {
      "cell_type": "code",
      "execution_count": null,
      "metadata": {
        "colab": {
          "base_uri": "https://localhost:8080/"
        },
        "id": "CeX7b6NZetrB",
        "outputId": "0f41f1e5-50f4-4664-9bd3-a449fcfaafc8"
      },
      "outputs": [
        {
          "output_type": "stream",
          "name": "stdout",
          "text": [
            "\n",
            "\n",
            "Seq. Tweet Train: [4, 2, 546]\n",
            "Seq. Tweet Validation: [2, 123, 191, 85, 2372, 303]\n",
            "Seq. Tweet Test: [2, 509, 4359, 33]\n"
          ]
        }
      ],
      "source": [
        "tokenizer = Tokenizer(oov_token='<oov>')\n",
        "\n",
        "tokenizer.fit_on_texts(tweets_train)\n",
        "\n",
        "X_train = tokenizer.texts_to_sequences(tweets_train)\n",
        "X_val = tokenizer.texts_to_sequences(tweets_validation)\n",
        "X_test = tokenizer.texts_to_sequences(tweets_test)\n",
        "\n",
        "print(f'\\n\\nSeq. Tweet Train: {X_train[0]}')\n",
        "print(f'Seq. Tweet Validation: {X_val[0]}')\n",
        "print(f'Seq. Tweet Test: {X_test[0]}')"
      ]
    },
    {
      "cell_type": "code",
      "execution_count": null,
      "metadata": {
        "colab": {
          "base_uri": "https://localhost:8080/"
        },
        "id": "OycEDVC809cs",
        "outputId": "891de608-dcda-4e7b-e834-ca1bf4a7583a"
      },
      "outputs": [
        {
          "output_type": "stream",
          "name": "stdout",
          "text": [
            "33\n",
            "\n",
            "\n",
            "Seq. Padded Tweet Train: [  4   2 546   0   0   0   0   0   0   0   0   0   0   0   0   0   0   0\n",
            "   0   0   0   0   0   0   0   0   0   0   0   0   0   0   0]\n",
            "Seq. Padded Tweet Validation: [   2  123  191   85 2372  303    0    0    0    0    0    0    0    0\n",
            "    0    0    0    0    0    0    0    0    0    0    0    0    0    0\n",
            "    0    0    0    0    0]\n",
            "Seq. Padded Tweet Test: [   2  509 4359   33    0    0    0    0    0    0    0    0    0    0\n",
            "    0    0    0    0    0    0    0    0    0    0    0    0    0    0\n",
            "    0    0    0    0    0]\n"
          ]
        }
      ],
      "source": [
        "max_len = max([len(x) for x in X_train])\n",
        "\n",
        "print(max_len)\n",
        "\n",
        "X_train = pad_sequences(X_train, maxlen=max_len, padding='post')\n",
        "X_val = pad_sequences(X_val, maxlen=max_len, padding='post')\n",
        "X_test = pad_sequences(X_test, maxlen=max_len, padding='post')\n",
        "\n",
        "print(f'\\n\\nSeq. Padded Tweet Train: {X_train[0]}')\n",
        "print(f'Seq. Padded Tweet Validation: {X_val[0]}')\n",
        "print(f'Seq. Padded Tweet Test: {X_test[0]}')"
      ]
    },
    {
      "cell_type": "code",
      "execution_count": null,
      "metadata": {
        "id": "IiIviiKg1wd3"
      },
      "outputs": [],
      "source": [
        "def build_simple_model(max_len, num_classes):\n",
        "  model = models.Sequential()\n",
        "  model.add(layers.Dense(units=256, input_shape=(max_len,), activation='relu'))\n",
        "  model.add(layers.Dense(units=num_classes, activation='sigmoid'))\n",
        "  model.compile(optimizer='adam', loss='binary_crossentropy', metrics=['accuracy'])\n",
        "  return model\n",
        "\n",
        "def build_simple_model_embedding(max_len, vocab_size, embedding_dim, num_classes):\n",
        "   model = models.Sequential()\n",
        "   model.add(layers.Embedding(input_dim=vocab_size, output_dim=embedding_dim, \\\n",
        "                              input_length=max_len))\n",
        "   model.add(layers.Flatten())\n",
        "   model.add(layers.Dense(units=64, activation='relu'))\n",
        "   model.add(layers.Dense(units=num_classes, activation='sigmoid'))\n",
        "   model.compile(optimizer='adam', loss='binary_crossentropy', metrics=['accuracy'])\n",
        "   return model\n",
        "\n",
        "\n",
        "def build_cnn_model(vocab_size, max_len, num_classes, embedding_dim=100, \\\n",
        "                    num_filters=32, kernel_size=3):\n",
        "  model = models.Sequential()\n",
        "  model.add(layers.Embedding(input_dim=vocab_size, output_dim=embedding_dim, \\\n",
        "                             input_length=max_len))\n",
        "  model.add(layers.Conv1D(num_filters, kernel_size, activation='relu'))\n",
        "  model.add(layers.GlobalMaxPooling1D())\n",
        "  model.add(layers.Dense(units=64, activation='relu'))\n",
        "  model.add(layers.Dense(units=num_classes, activation='sigmoid'))\n",
        "  model.compile(optimizer='adam', loss='binary_crossentropy', metrics=['accuracy'])\n",
        "  return model\n",
        "\n",
        "def build_bilstm(vocab_size, max_len, num_classes, embedding_dim=100):\n",
        "  model = models.Sequential()\n",
        "  model.add(layers.Embedding(input_dim=vocab_size, output_dim=embedding_dim, \\\n",
        "                             input_length=max_len))\n",
        "  model.add(layers.Dropout(rate=0.5))\n",
        "  model.add(layers.Bidirectional(layers.LSTM(units=128)))\n",
        "  model.add(layers.Dropout(rate=0.2))\n",
        "  model.add(layers.Dense(units=64, activation='relu'))\n",
        "  model.add(layers.Dense(units=num_classes, activation='sigmoid'))\n",
        "  model.compile(optimizer='adam', loss='binary_crossentropy', metrics=['accuracy'])\n",
        "  return model"
      ]
    },
    {
      "cell_type": "code",
      "execution_count": null,
      "metadata": {
        "colab": {
          "base_uri": "https://localhost:8080/"
        },
        "id": "b-FYBrOU11yV",
        "outputId": "bc9c7a2e-3b14-4340-f2a8-312344bdacb1"
      },
      "outputs": [
        {
          "output_type": "stream",
          "name": "stdout",
          "text": [
            "\n",
            "Vocab size: 11784\n",
            "\n",
            "Train Labels: 0 - [1. 0. 0. 0. 0. 0.]\n",
            "Validation Labels: 0 - [1. 0. 0. 0. 0. 0.]\n"
          ]
        }
      ],
      "source": [
        "\n",
        "vocab_size = len(tokenizer.word_index) + 1\n",
        "num_classes = 6\n",
        "\n",
        "print('\\nVocab size:', vocab_size)\n",
        "\n",
        "y_train = to_categorical(labels_train, num_classes=num_classes)\n",
        "y_val = to_categorical(labels_validation, num_classes=num_classes)\n",
        "\n",
        "print('\\nTrain Labels:', labels_train[0], '-', y_train[0])\n",
        "print('Validation Labels:', labels_validation[0], '-', y_val[0])"
      ]
    },
    {
      "cell_type": "code",
      "execution_count": null,
      "metadata": {
        "colab": {
          "base_uri": "https://localhost:8080/"
        },
        "id": "PLbdKOyAdfuP",
        "outputId": "308ede0b-3a94-4542-bdfb-bc39e7eb4fb2"
      },
      "outputs": [
        {
          "output_type": "stream",
          "name": "stdout",
          "text": [
            "Model: \"sequential_9\"\n",
            "_________________________________________________________________\n",
            " Layer (type)                Output Shape              Param #   \n",
            "=================================================================\n",
            " embedding_8 (Embedding)     (None, 33, 100)           1178400   \n",
            "                                                                 \n",
            " conv1d_6 (Conv1D)           (None, 31, 32)            9632      \n",
            "                                                                 \n",
            " global_max_pooling1d_6 (Glo  (None, 32)               0         \n",
            " balMaxPooling1D)                                                \n",
            "                                                                 \n",
            " dense_18 (Dense)            (None, 64)                2112      \n",
            "                                                                 \n",
            " dense_19 (Dense)            (None, 6)                 390       \n",
            "                                                                 \n",
            "=================================================================\n",
            "Total params: 1,190,534\n",
            "Trainable params: 1,190,534\n",
            "Non-trainable params: 0\n",
            "_________________________________________________________________\n"
          ]
        }
      ],
      "source": [
        "model_option =3\n",
        "\n",
        "if model_option == 1:\n",
        "  model = build_simple_model(max_len, num_classes)\n",
        "elif model_option == 2:\n",
        "  model = build_simple_model_embedding(max_len, vocab_size, embedding_dim=100, \\\n",
        "                                       num_classes=num_classes)\n",
        "elif model_option == 3:\n",
        "  model = build_cnn_model(vocab_size, max_len, num_classes, embedding_dim=100, \\\n",
        "                          num_filters=32, kernel_size=3)\n",
        "elif model_option == 4:\n",
        "  model = build_bilstm(vocab_size, max_len, num_classes, embedding_dim=100)\n",
        "\n",
        "model.summary()"
      ]
    },
    {
      "cell_type": "code",
      "execution_count": null,
      "metadata": {
        "colab": {
          "base_uri": "https://localhost:8080/"
        },
        "id": "qL-TV3eWfpAD",
        "outputId": "ede1af98-ac38-4688-8cb9-5b7da7318b72"
      },
      "outputs": [
        {
          "output_type": "stream",
          "name": "stdout",
          "text": [
            "Epoch 1/19\n",
            "125/125 [==============================] - 11s 89ms/step - loss: 0.3945 - accuracy: 0.4272 - val_loss: 0.2537 - val_accuracy: 0.7415\n",
            "Epoch 2/19\n",
            "125/125 [==============================] - 5s 40ms/step - loss: 0.1459 - accuracy: 0.8427 - val_loss: 0.1056 - val_accuracy: 0.8860\n",
            "Epoch 3/19\n",
            "125/125 [==============================] - 3s 28ms/step - loss: 0.0708 - accuracy: 0.9265 - val_loss: 0.0816 - val_accuracy: 0.9045\n",
            "Epoch 4/19\n",
            "125/125 [==============================] - 2s 18ms/step - loss: 0.0446 - accuracy: 0.9551 - val_loss: 0.0724 - val_accuracy: 0.9090\n",
            "Epoch 5/19\n",
            "125/125 [==============================] - 2s 16ms/step - loss: 0.0305 - accuracy: 0.9695 - val_loss: 0.0729 - val_accuracy: 0.9145\n",
            "Epoch 6/19\n",
            "125/125 [==============================] - 1s 12ms/step - loss: 0.0226 - accuracy: 0.9774 - val_loss: 0.0746 - val_accuracy: 0.9130\n",
            "Epoch 7/19\n",
            "125/125 [==============================] - 1s 9ms/step - loss: 0.0168 - accuracy: 0.9837 - val_loss: 0.0775 - val_accuracy: 0.9140\n",
            "Epoch 8/19\n",
            "125/125 [==============================] - 1s 10ms/step - loss: 0.0131 - accuracy: 0.9866 - val_loss: 0.0822 - val_accuracy: 0.9085\n",
            "Epoch 9/19\n",
            "125/125 [==============================] - 1s 7ms/step - loss: 0.0104 - accuracy: 0.9896 - val_loss: 0.0879 - val_accuracy: 0.9095\n",
            "Epoch 10/19\n",
            "125/125 [==============================] - 1s 9ms/step - loss: 0.0089 - accuracy: 0.9912 - val_loss: 0.0903 - val_accuracy: 0.9105\n",
            "Epoch 11/19\n",
            "125/125 [==============================] - 1s 8ms/step - loss: 0.0078 - accuracy: 0.9923 - val_loss: 0.0910 - val_accuracy: 0.9105\n",
            "Epoch 12/19\n",
            "125/125 [==============================] - 1s 8ms/step - loss: 0.0068 - accuracy: 0.9920 - val_loss: 0.0958 - val_accuracy: 0.9090\n",
            "Epoch 13/19\n",
            "125/125 [==============================] - 1s 7ms/step - loss: 0.0064 - accuracy: 0.9927 - val_loss: 0.0965 - val_accuracy: 0.9100\n",
            "Epoch 14/19\n",
            "125/125 [==============================] - 2s 12ms/step - loss: 0.0060 - accuracy: 0.9934 - val_loss: 0.1027 - val_accuracy: 0.9090\n",
            "Epoch 15/19\n",
            "125/125 [==============================] - 2s 12ms/step - loss: 0.0056 - accuracy: 0.9940 - val_loss: 0.1032 - val_accuracy: 0.9115\n",
            "Epoch 16/19\n",
            "125/125 [==============================] - 1s 9ms/step - loss: 0.0050 - accuracy: 0.9944 - val_loss: 0.1045 - val_accuracy: 0.9125\n",
            "Epoch 17/19\n",
            "125/125 [==============================] - 1s 4ms/step - loss: 0.0049 - accuracy: 0.9946 - val_loss: 0.1062 - val_accuracy: 0.9100\n",
            "Epoch 18/19\n",
            "125/125 [==============================] - 1s 6ms/step - loss: 0.0046 - accuracy: 0.9944 - val_loss: 0.1122 - val_accuracy: 0.9135\n",
            "Epoch 19/19\n",
            "125/125 [==============================] - 1s 6ms/step - loss: 0.0044 - accuracy: 0.9952 - val_loss: 0.1114 - val_accuracy: 0.9070\n"
          ]
        },
        {
          "output_type": "execute_result",
          "data": {
            "text/plain": [
              "<tensorflow.python.checkpoint.checkpoint.CheckpointLoadStatus at 0x7f368b00afe0>"
            ]
          },
          "metadata": {},
          "execution_count": 121
        }
      ],
      "source": [
        "checkpoint_dir = '/content/model_checkpoint/'\n",
        "\n",
        "os.makedirs(checkpoint_dir, exist_ok=True)\n",
        "\n",
        "model_checkpoint = ModelCheckpoint(filepath=checkpoint_dir, \\\n",
        "                                   save_weights_only=True, monitor='val_accuracy', \\\n",
        "                                   mode='max', save_best_only=True)\n",
        "\n",
        "history = model.fit(X_train, y_train, batch_size=128, epochs=19, \\\n",
        "                    validation_data=(X_val, y_val), callbacks=[model_checkpoint])\n",
        "\n",
        "model.load_weights(checkpoint_dir)"
      ]
    },
    {
      "cell_type": "code",
      "execution_count": null,
      "metadata": {
        "colab": {
          "base_uri": "https://localhost:8080/",
          "height": 472
        },
        "id": "BfxzWyE-f1L0",
        "outputId": "54f9c337-3ea1-4768-e5d5-5bb8a40667c7"
      },
      "outputs": [
        {
          "output_type": "display_data",
          "data": {
            "text/plain": [
              "<Figure size 640x480 with 1 Axes>"
            ],
            "image/png": "[encoded data removed]"
          },
          "metadata": {}
        }
      ],
      "source": [
        "plt.plot(history.history['accuracy'])\n",
        "plt.plot(history.history['val_accuracy'])\n",
        "plt.title('Model Accuracy')\n",
        "plt.xlabel('Epochs')\n",
        "plt.ylabel('Accuracy')\n",
        "plt.legend(['train', 'validation'], loc='upper left')\n",
        "\n",
        "plt.show()"
      ]
    },
    {
      "cell_type": "code",
      "execution_count": null,
      "metadata": {
        "colab": {
          "base_uri": "https://localhost:8080/",
          "height": 472
        },
        "id": "oG-G1tkngJuA",
        "outputId": "6d413925-f752-41a4-e6e4-e17a6db1e56c"
      },
      "outputs": [
        {
          "output_type": "display_data",
          "data": {
            "text/plain": [
              "<Figure size 640x480 with 1 Axes>"
            ],
            "image/png": "[encoded data removed]"
          },
          "metadata": {}
        }
      ],
      "source": [
        "plt.plot(history.history['loss'])\n",
        "plt.plot(history.history['val_loss'])\n",
        "plt.title('Model Loss')\n",
        "plt.xlabel('Epochs')\n",
        "plt.ylabel('Loss')\n",
        "plt.legend(['train', 'validation'], loc='upper left')\n",
        "\n",
        "plt.show()"
      ]
    },
    {
      "cell_type": "code",
      "execution_count": null,
      "metadata": {
        "colab": {
          "base_uri": "https://localhost:8080/"
        },
        "id": "RPY1AZDyheSe",
        "outputId": "c580cb0f-9e3b-4643-addc-ab34d7c76b71"
      },
      "outputs": [
        {
          "output_type": "stream",
          "name": "stdout",
          "text": [
            "63/63 [==============================] - 0s 2ms/step\n"
          ]
        }
      ],
      "source": [
        "y_pred = model.predict(X_test)\n",
        "\n",
        "y_pred = np.argmax(y_pred, axis=1)"
      ]
    },
    {
      "cell_type": "code",
      "execution_count": null,
      "metadata": {
        "colab": {
          "base_uri": "https://localhost:8080/"
        },
        "id": "_pAEddDUhiLK",
        "outputId": "6cf67dbe-7d2d-41c4-b175-ba1463ab8f3f"
      },
      "outputs": [
        {
          "output_type": "stream",
          "name": "stdout",
          "text": [
            "              precision    recall  f1-score   support\n",
            "\n",
            "           0       0.93      0.93      0.93       581\n",
            "           1       0.92      0.94      0.93       695\n",
            "           2       0.78      0.75      0.76       159\n",
            "           3       0.90      0.89      0.90       275\n",
            "           4       0.90      0.85      0.88       224\n",
            "           5       0.76      0.88      0.82        66\n",
            "\n",
            "    accuracy                           0.90      2000\n",
            "   macro avg       0.87      0.87      0.87      2000\n",
            "weighted avg       0.90      0.90      0.90      2000\n",
            "\n"
          ]
        }
      ],
      "source": [
        "report = classification_report(labels_test, y_pred, zero_division=0)\n",
        "\n",
        "print(report)"
      ]
    },
    {
      "cell_type": "markdown",
      "metadata": {
        "id": "kedpD78Bhd2s"
      },
      "source": []
    },
    {
      "cell_type": "code",
      "execution_count": null,
      "metadata": {
        "colab": {
          "base_uri": "https://localhost:8080/",
          "height": 200
        },
        "id": "zLZoPAiohvfj",
        "outputId": "5c784f32-90df-4aee-da45-22a03532522c"
      },
      "outputs": [
        {
          "output_type": "error",
          "ename": "NameError",
          "evalue": "ignored",
          "traceback": [
            "\u001b[0;31m---------------------------------------------------------------------------\u001b[0m",
            "\u001b[0;31mNameError\u001b[0m                                 Traceback (most recent call last)",
            "\u001b[0;32m<ipython-input-1-a4c5edf13855>\u001b[0m in \u001b[0;36m<cell line: 1>\u001b[0;34m()\u001b[0m\n\u001b[0;32m----> 1\u001b[0;31m \u001b[0mConfusionMatrixDisplay\u001b[0m\u001b[0;34m.\u001b[0m\u001b[0mfrom_predictions\u001b[0m\u001b[0;34m(\u001b[0m\u001b[0mlabels_test\u001b[0m\u001b[0;34m,\u001b[0m \u001b[0my_pred\u001b[0m\u001b[0;34m)\u001b[0m\u001b[0;34m\u001b[0m\u001b[0;34m\u001b[0m\u001b[0m\n\u001b[0m\u001b[1;32m      2\u001b[0m \u001b[0;34m\u001b[0m\u001b[0m\n\u001b[1;32m      3\u001b[0m \u001b[0mplt\u001b[0m\u001b[0;34m.\u001b[0m\u001b[0mshow\u001b[0m\u001b[0;34m(\u001b[0m\u001b[0;34m)\u001b[0m\u001b[0;34m\u001b[0m\u001b[0;34m\u001b[0m\u001b[0m\n",
            "\u001b[0;31mNameError\u001b[0m: name 'ConfusionMatrixDisplay' is not defined"
          ]
        }
      ],
      "source": [
        "ConfusionMatrixDisplay.from_predictions(labels_test, y_pred)\n",
        "\n",
        "plt.show()"
      ]
    }
  ],
  "metadata": {
    "accelerator": "GPU",
    "colab": {
      "provenance": [],
      "include_colab_link": true
    },
    "kernelspec": {
      "display_name": "Python 3",
      "name": "python3"
    },
    "language_info": {
      "name": "python"
    },
    "widgets": {
      "application/vnd.jupyter.widget-state+json": {
        "bf597b55f44d451fbbba9d56c941f5dc": {
          "model_module": "@jupyter-widgets/controls",
          "model_name": "HBoxModel",
          "model_module_version": "1.5.0",
          "state": {
            "_dom_classes": [],
            "_model_module": "@jupyter-widgets/controls",
            "_model_module_version": "1.5.0",
            "_model_name": "HBoxModel",
            "_view_count": null,
            "_view_module": "@jupyter-widgets/controls",
            "_view_module_version": "1.5.0",
            "_view_name": "HBoxView",
            "box_style": "",
            "children": [
              "IPY_MODEL_0201b21473e148e1b96c23c6214bc5e9",
              "IPY_MODEL_06595c4edffd42c59d3fb00d2f6375ed",
              "IPY_MODEL_b114236bac7e411d9c9ca069c1b905f6"
            ],
            "layout": "IPY_MODEL_fb28f5f1656242068b1c756cd5a44256"
          }
        },
        "0201b21473e148e1b96c23c6214bc5e9": {
          "model_module": "@jupyter-widgets/controls",
          "model_name": "HTMLModel",
          "model_module_version": "1.5.0",
          "state": {
            "_dom_classes": [],
            "_model_module": "@jupyter-widgets/controls",
            "_model_module_version": "1.5.0",
            "_model_name": "HTMLModel",
            "_view_count": null,
            "_view_module": "@jupyter-widgets/controls",
            "_view_module_version": "1.5.0",
            "_view_name": "HTMLView",
            "description": "",
            "description_tooltip": null,
            "layout": "IPY_MODEL_db0a09955e27477cbd3971b18a5683dd",
            "placeholder": "​",
            "style": "IPY_MODEL_0527c2c4ad4e486f8a00c84e3c8c54d1",
            "value": "100%"
          }
        },
        "06595c4edffd42c59d3fb00d2f6375ed": {
          "model_module": "@jupyter-widgets/controls",
          "model_name": "FloatProgressModel",
          "model_module_version": "1.5.0",
          "state": {
            "_dom_classes": [],
            "_model_module": "@jupyter-widgets/controls",
            "_model_module_version": "1.5.0",
            "_model_name": "FloatProgressModel",
            "_view_count": null,
            "_view_module": "@jupyter-widgets/controls",
            "_view_module_version": "1.5.0",
            "_view_name": "ProgressView",
            "bar_style": "success",
            "description": "",
            "description_tooltip": null,
            "layout": "IPY_MODEL_02ff5284310746679609a3fc2a655f22",
            "max": 3,
            "min": 0,
            "orientation": "horizontal",
            "style": "IPY_MODEL_84507b7d782d428d8ce079ed73c26a29",
            "value": 3
          }
        },
        "b114236bac7e411d9c9ca069c1b905f6": {
          "model_module": "@jupyter-widgets/controls",
          "model_name": "HTMLModel",
          "model_module_version": "1.5.0",
          "state": {
            "_dom_classes": [],
            "_model_module": "@jupyter-widgets/controls",
            "_model_module_version": "1.5.0",
            "_model_name": "HTMLModel",
            "_view_count": null,
            "_view_module": "@jupyter-widgets/controls",
            "_view_module_version": "1.5.0",
            "_view_name": "HTMLView",
            "description": "",
            "description_tooltip": null,
            "layout": "IPY_MODEL_3e43b84ef88e488893120334fbcf20d7",
            "placeholder": "​",
            "style": "IPY_MODEL_389ef83278d64b6db0dcc7491e56b5e6",
            "value": " 3/3 [00:00&lt;00:00, 90.73it/s]"
          }
        },
        "fb28f5f1656242068b1c756cd5a44256": {
          "model_module": "@jupyter-widgets/base",
          "model_name": "LayoutModel",
          "model_module_version": "1.2.0",
          "state": {
            "_model_module": "@jupyter-widgets/base",
            "_model_module_version": "1.2.0",
            "_model_name": "LayoutModel",
            "_view_count": null,
            "_view_module": "@jupyter-widgets/base",
            "_view_module_version": "1.2.0",
            "_view_name": "LayoutView",
            "align_content": null,
            "align_items": null,
            "align_self": null,
            "border": null,
            "bottom": null,
            "display": null,
            "flex": null,
            "flex_flow": null,
            "grid_area": null,
            "grid_auto_columns": null,
            "grid_auto_flow": null,
            "grid_auto_rows": null,
            "grid_column": null,
            "grid_gap": null,
            "grid_row": null,
            "grid_template_areas": null,
            "grid_template_columns": null,
            "grid_template_rows": null,
            "height": null,
            "justify_content": null,
            "justify_items": null,
            "left": null,
            "margin": null,
            "max_height": null,
            "max_width": null,
            "min_height": null,
            "min_width": null,
            "object_fit": null,
            "object_position": null,
            "order": null,
            "overflow": null,
            "overflow_x": null,
            "overflow_y": null,
            "padding": null,
            "right": null,
            "top": null,
            "visibility": null,
            "width": null
          }
        },
        "db0a09955e27477cbd3971b18a5683dd": {
          "model_module": "@jupyter-widgets/base",
          "model_name": "LayoutModel",
          "model_module_version": "1.2.0",
          "state": {
            "_model_module": "@jupyter-widgets/base",
            "_model_module_version": "1.2.0",
            "_model_name": "LayoutModel",
            "_view_count": null,
            "_view_module": "@jupyter-widgets/base",
            "_view_module_version": "1.2.0",
            "_view_name": "LayoutView",
            "align_content": null,
            "align_items": null,
            "align_self": null,
            "border": null,
            "bottom": null,
            "display": null,
            "flex": null,
            "flex_flow": null,
            "grid_area": null,
            "grid_auto_columns": null,
            "grid_auto_flow": null,
            "grid_auto_rows": null,
            "grid_column": null,
            "grid_gap": null,
            "grid_row": null,
            "grid_template_areas": null,
            "grid_template_columns": null,
            "grid_template_rows": null,
            "height": null,
            "justify_content": null,
            "justify_items": null,
            "left": null,
            "margin": null,
            "max_height": null,
            "max_width": null,
            "min_height": null,
            "min_width": null,
            "object_fit": null,
            "object_position": null,
            "order": null,
            "overflow": null,
            "overflow_x": null,
            "overflow_y": null,
            "padding": null,
            "right": null,
            "top": null,
            "visibility": null,
            "width": null
          }
        },
        "0527c2c4ad4e486f8a00c84e3c8c54d1": {
          "model_module": "@jupyter-widgets/controls",
          "model_name": "DescriptionStyleModel",
          "model_module_version": "1.5.0",
          "state": {
            "_model_module": "@jupyter-widgets/controls",
            "_model_module_version": "1.5.0",
            "_model_name": "DescriptionStyleModel",
            "_view_count": null,
            "_view_module": "@jupyter-widgets/base",
            "_view_module_version": "1.2.0",
            "_view_name": "StyleView",
            "description_width": ""
          }
        },
        "02ff5284310746679609a3fc2a655f22": {
          "model_module": "@jupyter-widgets/base",
          "model_name": "LayoutModel",
          "model_module_version": "1.2.0",
          "state": {
            "_model_module": "@jupyter-widgets/base",
            "_model_module_version": "1.2.0",
            "_model_name": "LayoutModel",
            "_view_count": null,
            "_view_module": "@jupyter-widgets/base",
            "_view_module_version": "1.2.0",
            "_view_name": "LayoutView",
            "align_content": null,
            "align_items": null,
            "align_self": null,
            "border": null,
            "bottom": null,
            "display": null,
            "flex": null,
            "flex_flow": null,
            "grid_area": null,
            "grid_auto_columns": null,
            "grid_auto_flow": null,
            "grid_auto_rows": null,
            "grid_column": null,
            "grid_gap": null,
            "grid_row": null,
            "grid_template_areas": null,
            "grid_template_columns": null,
            "grid_template_rows": null,
            "height": null,
            "justify_content": null,
            "justify_items": null,
            "left": null,
            "margin": null,
            "max_height": null,
            "max_width": null,
            "min_height": null,
            "min_width": null,
            "object_fit": null,
            "object_position": null,
            "order": null,
            "overflow": null,
            "overflow_x": null,
            "overflow_y": null,
            "padding": null,
            "right": null,
            "top": null,
            "visibility": null,
            "width": null
          }
        },
        "84507b7d782d428d8ce079ed73c26a29": {
          "model_module": "@jupyter-widgets/controls",
          "model_name": "ProgressStyleModel",
          "model_module_version": "1.5.0",
          "state": {
            "_model_module": "@jupyter-widgets/controls",
            "_model_module_version": "1.5.0",
            "_model_name": "ProgressStyleModel",
            "_view_count": null,
            "_view_module": "@jupyter-widgets/base",
            "_view_module_version": "1.2.0",
            "_view_name": "StyleView",
            "bar_color": null,
            "description_width": ""
          }
        },
        "3e43b84ef88e488893120334fbcf20d7": {
          "model_module": "@jupyter-widgets/base",
          "model_name": "LayoutModel",
          "model_module_version": "1.2.0",
          "state": {
            "_model_module": "@jupyter-widgets/base",
            "_model_module_version": "1.2.0",
            "_model_name": "LayoutModel",
            "_view_count": null,
            "_view_module": "@jupyter-widgets/base",
            "_view_module_version": "1.2.0",
            "_view_name": "LayoutView",
            "align_content": null,
            "align_items": null,
            "align_self": null,
            "border": null,
            "bottom": null,
            "display": null,
            "flex": null,
            "flex_flow": null,
            "grid_area": null,
            "grid_auto_columns": null,
            "grid_auto_flow": null,
            "grid_auto_rows": null,
            "grid_column": null,
            "grid_gap": null,
            "grid_row": null,
            "grid_template_areas": null,
            "grid_template_columns": null,
            "grid_template_rows": null,
            "height": null,
            "justify_content": null,
            "justify_items": null,
            "left": null,
            "margin": null,
            "max_height": null,
            "max_width": null,
            "min_height": null,
            "min_width": null,
            "object_fit": null,
            "object_position": null,
            "order": null,
            "overflow": null,
            "overflow_x": null,
            "overflow_y": null,
            "padding": null,
            "right": null,
            "top": null,
            "visibility": null,
            "width": null
          }
        },
        "389ef83278d64b6db0dcc7491e56b5e6": {
          "model_module": "@jupyter-widgets/controls",
          "model_name": "DescriptionStyleModel",
          "model_module_version": "1.5.0",
          "state": {
            "_model_module": "@jupyter-widgets/controls",
            "_model_module_version": "1.5.0",
            "_model_name": "DescriptionStyleModel",
            "_view_count": null,
            "_view_module": "@jupyter-widgets/base",
            "_view_module_version": "1.2.0",
            "_view_name": "StyleView",
            "description_width": ""
          }
        }
      }
    }
  },
  "nbformat": 4,
  "nbformat_minor": 0
}